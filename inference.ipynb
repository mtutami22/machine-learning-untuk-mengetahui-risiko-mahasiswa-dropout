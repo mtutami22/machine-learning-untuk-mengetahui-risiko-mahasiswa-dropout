{
  "cells": [
    {
      "cell_type": "markdown",
      "id": "c9ae436f",
      "metadata": {
        "id": "c9ae436f"
      },
      "source": [
        "# Import Libraries"
      ]
    },
    {
      "cell_type": "code",
      "execution_count": 18,
      "id": "49fe6b10",
      "metadata": {
        "id": "49fe6b10"
      },
      "outputs": [],
      "source": [
        "# Import libraries\n",
        "\n",
        "import pandas as pd\n",
        "import numpy as np\n",
        "import pickle\n",
        "import json"
      ]
    },
    {
      "cell_type": "markdown",
      "id": "66f6acaa",
      "metadata": {
        "id": "66f6acaa"
      },
      "source": [
        "# Load Files"
      ]
    },
    {
      "cell_type": "code",
      "source": [
        "# load files\n",
        "\n",
        "with open('list_cat_cols.txt', 'r') as file_1:\n",
        "    list_cat_cols = json.load(file_1)\n",
        "\n",
        "with open('list_num_cols.txt', 'r') as file_2:\n",
        "    list_num_cols = json.load(file_2)\n",
        "\n",
        "with open('rf_ms_1.pkl', 'rb') as file_3:\n",
        "  rf_ms_1 = pickle.load(file_3)\n"
      ],
      "metadata": {
        "id": "TGEzeRsqNIgA"
      },
      "id": "TGEzeRsqNIgA",
      "execution_count": 19,
      "outputs": []
    },
    {
      "cell_type": "markdown",
      "id": "d53f3809",
      "metadata": {
        "id": "d53f3809"
      },
      "source": [
        "# Creat New Data"
      ]
    },
    {
      "cell_type": "code",
      "execution_count": 20,
      "id": "6938f239",
      "metadata": {
        "colab": {
          "base_uri": "https://localhost:8080/",
          "height": 130
        },
        "id": "6938f239",
        "outputId": "6a679c17-8c14-473c-aefb-b9b3e4adf7de"
      },
      "outputs": [
        {
          "output_type": "execute_result",
          "data": {
            "text/plain": [
              "   marital_status  application_mode  application_order  course  daytime  \\\n",
              "0               1                 4                  2       8        1   \n",
              "\n",
              "   prev_qualification  nationality  mother_qualification  \\\n",
              "0                   1           13                     1   \n",
              "\n",
              "   father_qualification  mother_occupation  ...  inflation_rate   gdp  \\\n",
              "0                     1                  2  ...             1.5  1.75   \n",
              "\n",
              "   app_mode_ringkas  course_ringkas  prev_qualification_ringkas  continent  \\\n",
              "0           Lainnya      Pendidikan                         SMA     Europe   \n",
              "\n",
              "   mother_qualification_ringkas  father_qualification_ringkas  \\\n",
              "0                           SMA                           SMA   \n",
              "\n",
              "   mother_occupation_ringkas  father_occupation_ringkas  \n",
              "0             Pekerja swasta             Pekerja swasta  \n",
              "\n",
              "[1 rows x 42 columns]"
            ],
            "text/html": [
              "\n",
              "  <div id=\"df-6a1e4fee-359d-48df-892f-bd4593974a5d\" class=\"colab-df-container\">\n",
              "    <div>\n",
              "<style scoped>\n",
              "    .dataframe tbody tr th:only-of-type {\n",
              "        vertical-align: middle;\n",
              "    }\n",
              "\n",
              "    .dataframe tbody tr th {\n",
              "        vertical-align: top;\n",
              "    }\n",
              "\n",
              "    .dataframe thead th {\n",
              "        text-align: right;\n",
              "    }\n",
              "</style>\n",
              "<table border=\"1\" class=\"dataframe\">\n",
              "  <thead>\n",
              "    <tr style=\"text-align: right;\">\n",
              "      <th></th>\n",
              "      <th>marital_status</th>\n",
              "      <th>application_mode</th>\n",
              "      <th>application_order</th>\n",
              "      <th>course</th>\n",
              "      <th>daytime</th>\n",
              "      <th>prev_qualification</th>\n",
              "      <th>nationality</th>\n",
              "      <th>mother_qualification</th>\n",
              "      <th>father_qualification</th>\n",
              "      <th>mother_occupation</th>\n",
              "      <th>...</th>\n",
              "      <th>inflation_rate</th>\n",
              "      <th>gdp</th>\n",
              "      <th>app_mode_ringkas</th>\n",
              "      <th>course_ringkas</th>\n",
              "      <th>prev_qualification_ringkas</th>\n",
              "      <th>continent</th>\n",
              "      <th>mother_qualification_ringkas</th>\n",
              "      <th>father_qualification_ringkas</th>\n",
              "      <th>mother_occupation_ringkas</th>\n",
              "      <th>father_occupation_ringkas</th>\n",
              "    </tr>\n",
              "  </thead>\n",
              "  <tbody>\n",
              "    <tr>\n",
              "      <th>0</th>\n",
              "      <td>1</td>\n",
              "      <td>4</td>\n",
              "      <td>2</td>\n",
              "      <td>8</td>\n",
              "      <td>1</td>\n",
              "      <td>1</td>\n",
              "      <td>13</td>\n",
              "      <td>1</td>\n",
              "      <td>1</td>\n",
              "      <td>2</td>\n",
              "      <td>...</td>\n",
              "      <td>1.5</td>\n",
              "      <td>1.75</td>\n",
              "      <td>Lainnya</td>\n",
              "      <td>Pendidikan</td>\n",
              "      <td>SMA</td>\n",
              "      <td>Europe</td>\n",
              "      <td>SMA</td>\n",
              "      <td>SMA</td>\n",
              "      <td>Pekerja swasta</td>\n",
              "      <td>Pekerja swasta</td>\n",
              "    </tr>\n",
              "  </tbody>\n",
              "</table>\n",
              "<p>1 rows × 42 columns</p>\n",
              "</div>\n",
              "    <div class=\"colab-df-buttons\">\n",
              "\n",
              "  <div class=\"colab-df-container\">\n",
              "    <button class=\"colab-df-convert\" onclick=\"convertToInteractive('df-6a1e4fee-359d-48df-892f-bd4593974a5d')\"\n",
              "            title=\"Convert this dataframe to an interactive table.\"\n",
              "            style=\"display:none;\">\n",
              "\n",
              "  <svg xmlns=\"http://www.w3.org/2000/svg\" height=\"24px\" viewBox=\"0 -960 960 960\">\n",
              "    <path d=\"M120-120v-720h720v720H120Zm60-500h600v-160H180v160Zm220 220h160v-160H400v160Zm0 220h160v-160H400v160ZM180-400h160v-160H180v160Zm440 0h160v-160H620v160ZM180-180h160v-160H180v160Zm440 0h160v-160H620v160Z\"/>\n",
              "  </svg>\n",
              "    </button>\n",
              "\n",
              "  <style>\n",
              "    .colab-df-container {\n",
              "      display:flex;\n",
              "      gap: 12px;\n",
              "    }\n",
              "\n",
              "    .colab-df-convert {\n",
              "      background-color: #E8F0FE;\n",
              "      border: none;\n",
              "      border-radius: 50%;\n",
              "      cursor: pointer;\n",
              "      display: none;\n",
              "      fill: #1967D2;\n",
              "      height: 32px;\n",
              "      padding: 0 0 0 0;\n",
              "      width: 32px;\n",
              "    }\n",
              "\n",
              "    .colab-df-convert:hover {\n",
              "      background-color: #E2EBFA;\n",
              "      box-shadow: 0px 1px 2px rgba(60, 64, 67, 0.3), 0px 1px 3px 1px rgba(60, 64, 67, 0.15);\n",
              "      fill: #174EA6;\n",
              "    }\n",
              "\n",
              "    .colab-df-buttons div {\n",
              "      margin-bottom: 4px;\n",
              "    }\n",
              "\n",
              "    [theme=dark] .colab-df-convert {\n",
              "      background-color: #3B4455;\n",
              "      fill: #D2E3FC;\n",
              "    }\n",
              "\n",
              "    [theme=dark] .colab-df-convert:hover {\n",
              "      background-color: #434B5C;\n",
              "      box-shadow: 0px 1px 3px 1px rgba(0, 0, 0, 0.15);\n",
              "      filter: drop-shadow(0px 1px 2px rgba(0, 0, 0, 0.3));\n",
              "      fill: #FFFFFF;\n",
              "    }\n",
              "  </style>\n",
              "\n",
              "    <script>\n",
              "      const buttonEl =\n",
              "        document.querySelector('#df-6a1e4fee-359d-48df-892f-bd4593974a5d button.colab-df-convert');\n",
              "      buttonEl.style.display =\n",
              "        google.colab.kernel.accessAllowed ? 'block' : 'none';\n",
              "\n",
              "      async function convertToInteractive(key) {\n",
              "        const element = document.querySelector('#df-6a1e4fee-359d-48df-892f-bd4593974a5d');\n",
              "        const dataTable =\n",
              "          await google.colab.kernel.invokeFunction('convertToInteractive',\n",
              "                                                    [key], {});\n",
              "        if (!dataTable) return;\n",
              "\n",
              "        const docLinkHtml = 'Like what you see? Visit the ' +\n",
              "          '<a target=\"_blank\" href=https://colab.research.google.com/notebooks/data_table.ipynb>data table notebook</a>'\n",
              "          + ' to learn more about interactive tables.';\n",
              "        element.innerHTML = '';\n",
              "        dataTable['output_type'] = 'display_data';\n",
              "        await google.colab.output.renderOutput(dataTable, element);\n",
              "        const docLink = document.createElement('div');\n",
              "        docLink.innerHTML = docLinkHtml;\n",
              "        element.appendChild(docLink);\n",
              "      }\n",
              "    </script>\n",
              "  </div>\n",
              "\n",
              "\n",
              "  <div id=\"id_e39b3c30-2fb7-4794-87b3-57bb4e027457\">\n",
              "    <style>\n",
              "      .colab-df-generate {\n",
              "        background-color: #E8F0FE;\n",
              "        border: none;\n",
              "        border-radius: 50%;\n",
              "        cursor: pointer;\n",
              "        display: none;\n",
              "        fill: #1967D2;\n",
              "        height: 32px;\n",
              "        padding: 0 0 0 0;\n",
              "        width: 32px;\n",
              "      }\n",
              "\n",
              "      .colab-df-generate:hover {\n",
              "        background-color: #E2EBFA;\n",
              "        box-shadow: 0px 1px 2px rgba(60, 64, 67, 0.3), 0px 1px 3px 1px rgba(60, 64, 67, 0.15);\n",
              "        fill: #174EA6;\n",
              "      }\n",
              "\n",
              "      [theme=dark] .colab-df-generate {\n",
              "        background-color: #3B4455;\n",
              "        fill: #D2E3FC;\n",
              "      }\n",
              "\n",
              "      [theme=dark] .colab-df-generate:hover {\n",
              "        background-color: #434B5C;\n",
              "        box-shadow: 0px 1px 3px 1px rgba(0, 0, 0, 0.15);\n",
              "        filter: drop-shadow(0px 1px 2px rgba(0, 0, 0, 0.3));\n",
              "        fill: #FFFFFF;\n",
              "      }\n",
              "    </style>\n",
              "    <button class=\"colab-df-generate\" onclick=\"generateWithVariable('data_inf')\"\n",
              "            title=\"Generate code using this dataframe.\"\n",
              "            style=\"display:none;\">\n",
              "\n",
              "  <svg xmlns=\"http://www.w3.org/2000/svg\" height=\"24px\"viewBox=\"0 0 24 24\"\n",
              "       width=\"24px\">\n",
              "    <path d=\"M7,19H8.4L18.45,9,17,7.55,7,17.6ZM5,21V16.75L18.45,3.32a2,2,0,0,1,2.83,0l1.4,1.43a1.91,1.91,0,0,1,.58,1.4,1.91,1.91,0,0,1-.58,1.4L9.25,21ZM18.45,9,17,7.55Zm-12,3A5.31,5.31,0,0,0,4.9,8.1,5.31,5.31,0,0,0,1,6.5,5.31,5.31,0,0,0,4.9,4.9,5.31,5.31,0,0,0,6.5,1,5.31,5.31,0,0,0,8.1,4.9,5.31,5.31,0,0,0,12,6.5,5.46,5.46,0,0,0,6.5,12Z\"/>\n",
              "  </svg>\n",
              "    </button>\n",
              "    <script>\n",
              "      (() => {\n",
              "      const buttonEl =\n",
              "        document.querySelector('#id_e39b3c30-2fb7-4794-87b3-57bb4e027457 button.colab-df-generate');\n",
              "      buttonEl.style.display =\n",
              "        google.colab.kernel.accessAllowed ? 'block' : 'none';\n",
              "\n",
              "      buttonEl.onclick = () => {\n",
              "        google.colab.notebook.generateWithVariable('data_inf');\n",
              "      }\n",
              "      })();\n",
              "    </script>\n",
              "  </div>\n",
              "\n",
              "    </div>\n",
              "  </div>\n"
            ],
            "application/vnd.google.colaboratory.intrinsic+json": {
              "type": "dataframe",
              "variable_name": "data_inf"
            }
          },
          "metadata": {},
          "execution_count": 20
        }
      ],
      "source": [
        "# Create new data\n",
        "\n",
        "data_inf = {\n",
        "    'marital_status' : 1,\n",
        "    'application_mode' : 4,\n",
        "    'application_order' : 2,\n",
        "    'course' : 8,\n",
        "    'daytime' : 1,\n",
        "    'prev_qualification' : 1,\n",
        "    'nationality' : 13,\n",
        "    'mother_qualification' : 1,\n",
        "    'father_qualification' : 1,\n",
        "    'mother_occupation' : 2,\n",
        "    'father_occupation' : 2,\n",
        "    'displaced' : 0,\n",
        "    'special_needs' : 0,\n",
        "    'debtor' : 0,\n",
        "    'tuition_fee' : 1,\n",
        "    'gender' : 1,\n",
        "    'scholarship' : 0,\n",
        "    'age' : 19,\n",
        "    'international' : 4,\n",
        "    'sem1_credited' : 2,\n",
        "    'sem1_enrolled' : 6,\n",
        "    'sem1_eval' : 4,\n",
        "    'sem1_approved' : 3,\n",
        "    'sem1_grade' : 10,\n",
        "    'sem1_wo_eval' : 2,\n",
        "    'sem2_credited' : 3,\n",
        "    'sem2_enrolled' : 5,\n",
        "    'sem2_eval' : 5,\n",
        "    'sem2_approved' : 5,\n",
        "    'sem2_grade' : 14,\n",
        "    'sem2_wo_eval' : 0,\n",
        "    'unemployment_rate' :10.95,\n",
        "    'inflation_rate' : 1.5,\n",
        "    'gdp' : 1.75,\n",
        "    'app_mode_ringkas' : 'Lainnya',\n",
        "    'course_ringkas' : 'Pendidikan',\n",
        "    'prev_qualification_ringkas' : 'SMA',\n",
        "    'continent' : 'Europe',\n",
        "    'mother_qualification_ringkas' : 'SMA',\n",
        "    'father_qualification_ringkas' : 'SMA',\n",
        "    'mother_occupation_ringkas' : 'Pekerja swasta',\n",
        "    'father_occupation_ringkas' : 'Pekerja swasta'\n",
        "}\n",
        "\n",
        "data_inf = pd.DataFrame([data_inf])\n",
        "\n",
        "data_inf"
      ]
    },
    {
      "cell_type": "markdown",
      "id": "ab56c86e",
      "metadata": {
        "id": "ab56c86e"
      },
      "source": [
        "# Predict"
      ]
    },
    {
      "cell_type": "code",
      "execution_count": 21,
      "id": "fb211a9b",
      "metadata": {
        "colab": {
          "base_uri": "https://localhost:8080/"
        },
        "id": "fb211a9b",
        "outputId": "fc3830b0-e275-44a0-cdcb-2c1d9b07ee85"
      },
      "outputs": [
        {
          "output_type": "stream",
          "name": "stdout",
          "text": [
            "Target:  Graduate\n"
          ]
        }
      ],
      "source": [
        "# Predict data\n",
        "\n",
        "y_pred_inf = rf_ms_1.predict(data_inf)\n",
        "\n",
        "print('Target: ', y_pred_inf[0])"
      ]
    },
    {
      "cell_type": "markdown",
      "source": [
        "Setelah dilakukan prediksi, mahasiswa tersebut akan lulus. Mahasiswa ini"
      ],
      "metadata": {
        "id": "Ur2em1mxdaKx"
      },
      "id": "Ur2em1mxdaKx"
    }
  ],
  "metadata": {
    "kernelspec": {
      "display_name": "base",
      "language": "python",
      "name": "python3"
    },
    "language_info": {
      "codemirror_mode": {
        "name": "ipython",
        "version": 3
      },
      "file_extension": ".py",
      "mimetype": "text/x-python",
      "name": "python",
      "nbconvert_exporter": "python",
      "pygments_lexer": "ipython3",
      "version": "3.12.7"
    },
    "colab": {
      "provenance": []
    }
  },
  "nbformat": 4,
  "nbformat_minor": 5
}